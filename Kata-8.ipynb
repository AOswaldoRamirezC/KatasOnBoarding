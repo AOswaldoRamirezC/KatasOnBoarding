{
 "cells": [
  {
   "cell_type": "markdown",
   "metadata": {},
   "source": [
    "## Kata - 8\n",
    "\n",
    "Ejercicio 1: Creación de diccionarios de Python"
   ]
  },
  {
   "cell_type": "code",
   "execution_count": 30,
   "metadata": {},
   "outputs": [
    {
     "name": "stdout",
     "output_type": "stream",
     "text": [
      "El planeta Marte tiene 2 lunas.\n",
      "El planeta Marte tiene una circunferencia polar de: 6752\n"
     ]
    }
   ],
   "source": [
    "planeta = {}\n",
    "\n",
    "planeta = {'nombre': 'Marte','lunas':2}\n",
    "print('El planeta',planeta.get('nombre'),'tiene',planeta.get('lunas'),'lunas.')\n",
    "\n",
    "planeta['circunferencia (km)'] = {'polar': 6752,'equatorial': 6792}\n",
    "print('El planeta', planeta.get('nombre'),'tiene una circunferencia polar de:',planeta['circunferencia (km)']['polar'])\n"
   ]
  },
  {
   "cell_type": "markdown",
   "metadata": {},
   "source": [
    "Ejercicio 2: Programación dinámica con diccionarios"
   ]
  },
  {
   "cell_type": "code",
   "execution_count": 24,
   "metadata": {},
   "outputs": [
    {
     "name": "stdout",
     "output_type": "stream",
     "text": [
      "El promedio de lunas con respecto a los planetas es de 17.833333333333332\n"
     ]
    }
   ],
   "source": [
    "planet_moons = {\n",
    "    'mercury': 0,\n",
    "    'venus': 0,\n",
    "    'earth': 1,\n",
    "    'mars': 2,\n",
    "    'jupiter': 79,\n",
    "    'saturn': 82,\n",
    "    'uranus': 27,\n",
    "    'neptune': 14,\n",
    "    'pluto': 5,\n",
    "    'haumea': 2,\n",
    "    'makemake': 1,\n",
    "    'eris': 1\n",
    "}\n",
    "\n",
    "lista_planetas = []\n",
    "for lista in planet_moons.keys():\n",
    "    lista_planetas.append(lista)\n",
    "planetas = len(lista_planetas)\n",
    "\n",
    "lunas = 0\n",
    "for valor in planet_moons.values():\n",
    "    lunas = lunas + valor \n",
    "\n",
    "promedio_lunas = lunas / planetas\n",
    "print ('El promedio de lunas con respecto a los planetas es de %s' % promedio_lunas)\n"
   ]
  }
 ],
 "metadata": {
  "interpreter": {
   "hash": "a98b51ea1355cbbe30d9d84f1beff27b0eb1a40b595cb9e9726eeee3b2205a97"
  },
  "kernelspec": {
   "display_name": "Python 3.10.2 64-bit",
   "language": "python",
   "name": "python3"
  },
  "language_info": {
   "codemirror_mode": {
    "name": "ipython",
    "version": 3
   },
   "file_extension": ".py",
   "mimetype": "text/x-python",
   "name": "python",
   "nbconvert_exporter": "python",
   "pygments_lexer": "ipython3",
   "version": "3.10.2"
  },
  "orig_nbformat": 4
 },
 "nbformat": 4,
 "nbformat_minor": 2
}
