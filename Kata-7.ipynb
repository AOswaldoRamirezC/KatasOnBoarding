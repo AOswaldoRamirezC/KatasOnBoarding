{
 "cells": [
  {
   "cell_type": "markdown",
   "metadata": {},
   "source": [
    "## Kata - 7\n",
    "\n",
    "- Ejercicio 1: Creación de un bucle \"while\"\n",
    "- Ejercicio 2: Creación de un ciclo \"for\""
   ]
  },
  {
   "cell_type": "code",
   "execution_count": 4,
   "metadata": {},
   "outputs": [
    {
     "name": "stdout",
     "output_type": "stream",
     "text": [
      "El planeta  1  se llama: MERCURIO\n",
      "El planeta  2  se llama: VENUS\n",
      "El planeta  3  se llama: TIERRA\n",
      "El planeta  4  se llama: MARTE\n",
      "El planeta  5  se llama: mercurio\n",
      "El planeta  6  se llama: venus\n",
      "El planeta  7  se llama: tierra\n",
      "El planeta  8  se llama: marte\n"
     ]
    }
   ],
   "source": [
    "planeta_nuevo = ''\n",
    "planetas = []\n",
    "\n",
    "while planeta_nuevo.lower() != 'finalizar':\n",
    "    if planeta_nuevo:\n",
    "        planetas.append(planeta_nuevo)\n",
    "    planeta_nuevo = input('Escribe un nuevo planeta, si quieres terminar escribe \"Finalizar\"')\n",
    "   \n",
    "\n",
    "num = 1\n",
    "for planeta in planetas:\n",
    "    print('El planeta ', num,' se llama: ' + planeta)\n",
    "    num = num+1\n"
   ]
  }
 ],
 "metadata": {
  "interpreter": {
   "hash": "a98b51ea1355cbbe30d9d84f1beff27b0eb1a40b595cb9e9726eeee3b2205a97"
  },
  "kernelspec": {
   "display_name": "Python 3.10.2 64-bit",
   "language": "python",
   "name": "python3"
  },
  "language_info": {
   "codemirror_mode": {
    "name": "ipython",
    "version": 3
   },
   "file_extension": ".py",
   "mimetype": "text/x-python",
   "name": "python",
   "nbconvert_exporter": "python",
   "pygments_lexer": "ipython3",
   "version": "3.10.2"
  },
  "orig_nbformat": 4
 },
 "nbformat": 4,
 "nbformat_minor": 2
}
