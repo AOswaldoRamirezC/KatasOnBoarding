{
 "cells": [
  {
   "cell_type": "markdown",
   "metadata": {},
   "source": [
    "## Kata - 9\n",
    "\n",
    "Ejercicio 1: Trabajar con argumentos en funciones."
   ]
  },
  {
   "cell_type": "code",
   "execution_count": 91,
   "metadata": {},
   "outputs": [
    {
     "name": "stdout",
     "output_type": "stream",
     "text": [
      "La capacidad del tanque 1 es de 10 %\n",
      "La capacidad del tanque 2 es de 20 %\n",
      "La capacidad del tanque 3 es de 30 %\n",
      "La capacidad del tanque 4 es de 40 %\n",
      "La capacidad del tanque 5 es de 50 %\n",
      "\n",
      "El promedio del combustible de los 5 tanques es del 30.0 porciento.\n"
     ]
    }
   ],
   "source": [
    "def info_combus (tanques):\n",
    "    x = 1\n",
    "    for t in tanques:\n",
    "        print ('La capacidad del tanque',x,'es de',t,'%')\n",
    "        x=x+1\n",
    "    suma_combus = sum((tanques))\n",
    "    return suma_combus\n",
    "\n",
    "def prom_combus (sum_tanq=0, num_tanq=0):\n",
    "    prom = sum_tanq / num_tanq\n",
    "    return prom\n",
    "\n",
    "num_tanq = input(' \\n Escribe el numero de tanques en la nave')\n",
    "x = 1\n",
    "lista_tanq = []\n",
    "while x <= int(num_tanq):\n",
    "    total_tanq = int(input('Escribe la capacidad del tanque %s en una escala del 1 al 100' %x))\n",
    "    lista_tanq.append(total_tanq)\n",
    "    x=x+1\n",
    "\n",
    "suma = info_combus(lista_tanq)\n",
    "promedio = prom_combus(suma, int(num_tanq))\n",
    "\n",
    "print('\\nEl promedio del combustible de los %s tanques es del %s porciento.'%(num_tanq, promedio))\n"
   ]
  },
  {
   "cell_type": "markdown",
   "metadata": {},
   "source": [
    "Ejercicio 2: Trabajo con argumentos de palabra clave."
   ]
  },
  {
   "cell_type": "code",
   "execution_count": 90,
   "metadata": {},
   "outputs": [
    {
     "name": "stdout",
     "output_type": "stream",
     "text": [
      "Bienvenidos a bordo, por favor ingrese los datos.\n",
      "\n",
      "    Mision hacia: Marte\n",
      "    Total del tiempo en el viaje: 30 minutos\n",
      "    Combustible restante: 800\n",
      "    El tanque Interno contiene 500 litros todavia.\n",
      "El tanque Externo contiene 300 litros todavia.\n",
      "\n"
     ]
    }
   ],
   "source": [
    "# Escribe tu nueva función\n",
    "\n",
    "def reporte_mision(destino, *minutos, **combus_total):\n",
    "    main_report = f\"\"\"\n",
    "    Mision hacia: {destino}\n",
    "    Total del tiempo en el viaje: {sum(minutos)} minutos\n",
    "    Combustible restante: {sum(combus_total.values())} litors.\n",
    "    \"\"\"\n",
    "    for tank_name, litros in combus_total.items():\n",
    "        main_report += f\"El tanque {tank_name} contiene {litros} litros todavia.\\n\"\n",
    "    return main_report\n",
    "\n",
    "print('Bienvenidos a bordo, por favor ingrese los datos.')\n",
    "destino = input('Escriba el destino deseado.')\n",
    "t_prelanzamiento = input('Escriba el tiempo de prelanzamiento.')\n",
    "t_vuelo = input('Escriba el tiempo de vuelo.')\n",
    "t_extra = input('Escriba el tiempo de incursion.')\n",
    "tq_interno = input('Escriba en litros el contenido del tanque interno.')\n",
    "tq_externo = input('Escriba en litros el contenido del tanque externo.')\n",
    "\n",
    "print(reporte_mision(destino, int(t_prelanzamiento),int(t_vuelo), int(t_extra), Interno=int(tq_interno), Externo=int(tq_externo)))"
   ]
  }
 ],
 "metadata": {
  "interpreter": {
   "hash": "a98b51ea1355cbbe30d9d84f1beff27b0eb1a40b595cb9e9726eeee3b2205a97"
  },
  "kernelspec": {
   "display_name": "Python 3.10.2 64-bit",
   "language": "python",
   "name": "python3"
  },
  "language_info": {
   "codemirror_mode": {
    "name": "ipython",
    "version": 3
   },
   "file_extension": ".py",
   "mimetype": "text/x-python",
   "name": "python",
   "nbconvert_exporter": "python",
   "pygments_lexer": "ipython3",
   "version": "3.10.2"
  },
  "orig_nbformat": 4
 },
 "nbformat": 4,
 "nbformat_minor": 2
}
