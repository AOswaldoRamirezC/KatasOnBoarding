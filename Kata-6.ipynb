{
 "cells": [
  {
   "cell_type": "markdown",
   "metadata": {},
   "source": [
    "## Kata - 6\n",
    "Ejercicio1: Crear y usar listas de Python"
   ]
  },
  {
   "cell_type": "code",
   "execution_count": 53,
   "metadata": {},
   "outputs": [
    {
     "name": "stdout",
     "output_type": "stream",
     "text": [
      "['Mercurio', 'Venus', 'Tierra', 'Marte', 'Jupiter', 'Saturno', 'Urano', 'Neptuno']\n",
      "['Mercurio', 'Venus', 'Tierra', 'Marte', 'Jupiter', 'Saturno', 'Urano', 'Neptuno', 'Pluton']\n",
      "9\n",
      "El ultimo planeta es Pluton\n"
     ]
    }
   ],
   "source": [
    "planetas = ['Mercurio','Venus','Tierra','Marte','Jupiter','Saturno','Urano','Neptuno']\n",
    "print(planetas)\n",
    "\n",
    "planetas.append('Pluton')\n",
    "print(planetas)\n",
    "numplanetas = len(planetas)\n",
    "print(numplanetas)\n",
    "print(\"El ultimo planeta es\",planetas[-1])"
   ]
  },
  {
   "cell_type": "markdown",
   "metadata": {},
   "source": [
    "Ejercicio 2: Trabajando con datos de una lista"
   ]
  },
  {
   "cell_type": "code",
   "execution_count": 42,
   "metadata": {},
   "outputs": [
    {
     "name": "stdout",
     "output_type": "stream",
     "text": [
      "Nombre invalido. Recuerda escribir bien el nombre y empezar con mayuscula.\n"
     ]
    }
   ],
   "source": [
    "planetas2 = ['Mercurio','Venus','Tierra','Marte','Jupiter','Saturno','Urano','Neptuno']\n",
    "\n",
    "peticion = input(\"Ingresa el nombre de un planeta comenzando con Mayuscula\")\n",
    "indice = 0\n",
    "\n",
    "while int(indice) <= int(len(planetas2)):\n",
    "   \n",
    "   if int(indice) == int(len(planetas2)):\n",
    "       print(\"Nombre invalido. Recuerda escribir bien el nombre y empezar con mayuscula.\")\n",
    "       break\n",
    "   \n",
    "   elif str (peticion) == str (planetas2[indice]):\n",
    "         ubi_planeta = planetas2.index(peticion)\n",
    "         cerc_planeta = planetas2[0:ubi_planeta]\n",
    "         print(\"Los planetas mas cercanos al sol que el planeta\",peticion,\"son:\",cerc_planeta)\n",
    "         lej_planeta = planetas2[ubi_planeta+1:]\n",
    "         print(\"Los planetas mas lejanos al sol que el planeta\",peticion,\"son:\",lej_planeta)\n",
    "         break\n",
    "        \n",
    "   else:\n",
    "      indice = indice+1    \n",
    "\n",
    "\n",
    "\n"
   ]
  },
  {
   "cell_type": "code",
   "execution_count": null,
   "metadata": {},
   "outputs": [],
   "source": []
  }
 ],
 "metadata": {
  "interpreter": {
   "hash": "a98b51ea1355cbbe30d9d84f1beff27b0eb1a40b595cb9e9726eeee3b2205a97"
  },
  "kernelspec": {
   "display_name": "Python 3.10.2 64-bit",
   "language": "python",
   "name": "python3"
  },
  "language_info": {
   "codemirror_mode": {
    "name": "ipython",
    "version": 3
   },
   "file_extension": ".py",
   "mimetype": "text/x-python",
   "name": "python",
   "nbconvert_exporter": "python",
   "pygments_lexer": "ipython3",
   "version": "3.10.2"
  },
  "orig_nbformat": 4
 },
 "nbformat": 4,
 "nbformat_minor": 2
}
