{
 "cells": [
  {
   "cell_type": "markdown",
   "metadata": {},
   "source": [
    "## Kata - 3\n",
    "Ejercicio: Escribir declaraciones if, else, y elif.\n",
    "- Programa advertencia de asteroide."
   ]
  },
  {
   "cell_type": "code",
   "execution_count": 17,
   "metadata": {},
   "outputs": [
    {
     "name": "stdout",
     "output_type": "stream",
     "text": [
      "Bienvenido al programa para conocer si el asteroide es peligroso o no.\n",
      "Advertendia! Asteroide acercandose con velocidad 22 km/s, mantenga en observacion.\n"
     ]
    }
   ],
   "source": [
    "print(\"Bienvenido al programa para conocer si el asteroide es peligroso o no.\")\n",
    "\n",
    "velocidad = input(\"Introduzca a que velocidad de hacerca el asteroide:  \")\n",
    "if int(velocidad) < 1:\n",
    "    print(\"Asteriode completamente inmovil.\")\n",
    "elif int(velocidad) > 25:\n",
    "    print(\"Peligro! Asteroide viajando a\", velocidad,\"km/s. ALERTA DE COLISION!\")\n",
    "elif 25 > int (velocidad) > 0:\n",
    "    print(\"Todo en orden! Asteroide distante con velocidad de\", velocidad, \"km/s.\")\n",
    "else:\n",
    "    print(\"Advertendia! Asteroide acercandose con velocidad\",velocidad,\"km/s, mantenga en observacion.\")"
   ]
  },
  {
   "cell_type": "markdown",
   "metadata": {},
   "source": [
    "Ejercicio: Escribir declaraciones if, else, y elif.\n",
    "- Programa visualizar destello asteroide."
   ]
  },
  {
   "cell_type": "code",
   "execution_count": 25,
   "metadata": {},
   "outputs": [
    {
     "name": "stdout",
     "output_type": "stream",
     "text": [
      "Bienvenido al programa para mandar mensaje a la tierra.\n",
      "Notificacion! Asteroide en curso con velocidad de 19 . Posible avistamiento en el cielo.\n"
     ]
    }
   ],
   "source": [
    "print(\"Bienvenido al programa para mandar mensaje a la tierra.\")\n",
    "\n",
    "velocidad = input(\"Introduzca a que velocidad esta pasando el asteroide por la atmosfera:  \")\n",
    "if int(velocidad) < 1:\n",
    "    print(\"No hay asteroide.\")\n",
    "elif int(velocidad) >= 20:\n",
    "    print(\"Atencion! Asteroide cruzando el cielo ahora mismo con una velocidad de\",velocidad,\"km/s.\")\n",
    "elif 0 < int (velocidad) < 19:\n",
    "    print(\"Asteroide pasando por la atmosfera con una velocidad de\",velocidad,\"km/s. No visible :(\")\n",
    "else:\n",
    "    print(\"Notificacion! Asteroide en curso con velocidad de\",velocidad,\". Posible avistamiento en el cielo.\")"
   ]
  },
  {
   "cell_type": "markdown",
   "metadata": {},
   "source": [
    "Ejercicio: Uso de operadores and y or.\n",
    "- Programa representacion del peligro de los asteroides para la tierra."
   ]
  },
  {
   "cell_type": "code",
   "execution_count": 7,
   "metadata": {},
   "outputs": [
    {
     "name": "stdout",
     "output_type": "stream",
     "text": [
      "Bienvenido al programa para conoser el peligro de los asteroides.\n",
      "Asteroide pasando por la atmosfera con una velocidad de 5 km/s y un tamaño de 80 metros de diametro. No visible :(\n"
     ]
    }
   ],
   "source": [
    "print(\"Bienvenido al programa para conoser el peligro de los asteroides.\")\n",
    "\n",
    "velocidad_asteroide = input(\"Introduzca la velocidad del asteroide:\")\n",
    "tamano_asteroide = input(\"Introdusca el tamaño del asteroide\")\n",
    "\n",
    "if int(velocidad_asteroide) < 1:\n",
    "    print(\"Hay un asteriode de\",tamano_asteroide,\"metros de diametro completamente inmovi.\")\n",
    "\n",
    "elif int(velocidad_asteroide) > 25 and int(tamano_asteroide) > 25:\n",
    "    print(\"Peligro! Asteroide viajando a\", velocidad_asteroide,\"km/s, con un diametro de\",tamano_asteroide,\"metros. ALERTA DE COLISION!\")\n",
    "\n",
    "elif int (velocidad_asteroide) > 19:\n",
    "    print(\"Atencion! Asteroide cruzando el cielo ahora mismo con una velocidad de\",velocidad_asteroide,\"km/s.\")\n",
    "\n",
    "else:\n",
    "    print(\"Asteroide pasando por la atmosfera con una velocidad de\",velocidad_asteroide,\"km/s y un tamaño de\",tamano_asteroide,\"metros de diametro. No visible :(\")"
   ]
  }
 ],
 "metadata": {
  "interpreter": {
   "hash": "a98b51ea1355cbbe30d9d84f1beff27b0eb1a40b595cb9e9726eeee3b2205a97"
  },
  "kernelspec": {
   "display_name": "Python 3.10.2 64-bit",
   "language": "python",
   "name": "python3"
  },
  "language_info": {
   "codemirror_mode": {
    "name": "ipython",
    "version": 3
   },
   "file_extension": ".py",
   "mimetype": "text/x-python",
   "name": "python",
   "nbconvert_exporter": "python",
   "pygments_lexer": "ipython3",
   "version": "3.10.2"
  },
  "orig_nbformat": 4
 },
 "nbformat": 4,
 "nbformat_minor": 2
}
