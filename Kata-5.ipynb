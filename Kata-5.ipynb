{
 "cells": [
  {
   "cell_type": "markdown",
   "metadata": {},
   "source": [
    "## Kata - 5\n",
    "Ejercicio1 - Utilizar operadores aritméticos"
   ]
  },
  {
   "cell_type": "code",
   "execution_count": 2,
   "metadata": {},
   "outputs": [
    {
     "name": "stdout",
     "output_type": "stream",
     "text": [
      "628949330\n",
      "1012195830.53952\n"
     ]
    }
   ],
   "source": [
    "dis_tierra = 149597870\n",
    "dis_jupiter = 778547200\n",
    "\n",
    "dis_total = dis_jupiter - dis_tierra\n",
    "\n",
    "dis_millas = dis_total*1.609344\n",
    "print(dis_total)\n",
    "print(dis_millas)"
   ]
  },
  {
   "cell_type": "markdown",
   "metadata": {},
   "source": [
    "Ejercicio 2: convierte cadenas en números y usa valores absolutos"
   ]
  },
  {
   "cell_type": "code",
   "execution_count": 6,
   "metadata": {},
   "outputs": [
    {
     "name": "stdout",
     "output_type": "stream",
     "text": [
      "Programa para determinar distancia entre dos planetas\n",
      "Distancia en Kilometros: 450.0\n",
      "Distancia en Millas:  279.45\n"
     ]
    }
   ],
   "source": [
    "print(\"Programa para determinar distancia entre dos planetas\")\n",
    "\n",
    "dis_planet1 = input (\"Ingresa la distancia entre el sol y el primer Planeta en KM:\")\n",
    "dis_planet2 = input (\"Ingresa la distancia entre el sol y el segundo Planeta en KM\")\n",
    "\n",
    "dis_total = abs(float(dis_planet1) - float(dis_planet2))\n",
    "print(\"Distancia en Kilometros:\",dis_total)\n",
    "\n",
    "dis_millas = dis_total * 0.621\n",
    "print(\"Distancia en Millas: \",dis_millas)"
   ]
  }
 ],
 "metadata": {
  "interpreter": {
   "hash": "a98b51ea1355cbbe30d9d84f1beff27b0eb1a40b595cb9e9726eeee3b2205a97"
  },
  "kernelspec": {
   "display_name": "Python 3.10.2 64-bit",
   "language": "python",
   "name": "python3"
  },
  "language_info": {
   "codemirror_mode": {
    "name": "ipython",
    "version": 3
   },
   "file_extension": ".py",
   "mimetype": "text/x-python",
   "name": "python",
   "nbconvert_exporter": "python",
   "pygments_lexer": "ipython3",
   "version": "3.10.2"
  },
  "orig_nbformat": 4
 },
 "nbformat": 4,
 "nbformat_minor": 2
}
